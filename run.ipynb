{
  "nbformat": 4,
  "nbformat_minor": 0,
  "metadata": {
    "colab": {
      "provenance": [],
      "include_colab_link": true
    },
    "kernelspec": {
      "name": "python3",
      "display_name": "Python 3"
    },
    "language_info": {
      "name": "python"
    }
  },
  "cells": [
    {
      "cell_type": "markdown",
      "metadata": {
        "id": "view-in-github",
        "colab_type": "text"
      },
      "source": [
        "<a href=\"https://colab.research.google.com/github/hv33y/links-to-onedrive/blob/master/run.ipynb\" target=\"_parent\"><img src=\"https://colab.research.google.com/assets/colab-badge.svg\" alt=\"Open In Colab\"/></a>"
      ]
    },
    {
      "cell_type": "markdown",
      "source": [
        "\n",
        "## Magent/Direct (to OneDrive)"
      ],
      "metadata": {
        "id": "WZogp-b_57D_"
      }
    },
    {
      "cell_type": "code",
      "source": [
        "#@title 1. **Install (RClone + Libtorrent)**\n",
        "\n",
        "!python -m pip install --upgrade pip setuptools wheel\n",
        "!python -m pip install lbry-libtorrent\n",
        "!wget https://downloads.rclone.org/v1.52.1/rclone-v1.52.1-linux-amd64.deb\n",
        "!apt install ./rclone-v1.52.1-linux-amd64.deb"
      ],
      "metadata": {
        "id": "2oEgeGat5w4K",
        "cellView": "form"
      },
      "execution_count": null,
      "outputs": []
    },
    {
      "cell_type": "code",
      "execution_count": null,
      "metadata": {
        "id": "3MkQGdKj5sDx",
        "cellView": "form"
      },
      "outputs": [],
      "source": [
        "#@title 2. **Authenticate Rclone + Onedrive**\n",
        "\n",
        "!rclone config      #add your onedrive"
      ]
    },
    {
      "cell_type": "code",
      "source": [
        "#@title 3. **Rclone (Mount OneDrive)**\n",
        "\n",
        "!mkdir onedrive\n",
        "!nohup rclone --vfs-cache-mode writes mount onedrive: ./onedrive &    "
      ],
      "metadata": {
        "id": "_qCu9-BY-ByY",
        "cellView": "form"
      },
      "execution_count": null,
      "outputs": []
    },
    {
      "cell_type": "code",
      "source": [
        "#@title >>>> __Check Onedrive Mounted__\n",
        "\n",
        "!ls ./onedrive    #after sucessfully mounted onedrive then show your onedrive folders and files"
      ],
      "metadata": {
        "id": "Cf1i8xIQE_pm",
        "cellView": "form"
      },
      "execution_count": null,
      "outputs": []
    },
    {
      "cell_type": "code",
      "source": [
        "#@title 4. **Add Magnet/Torrent**\n",
        "\n",
        "!mkdir downloads\n",
        "link = input (\"Input Magnet links\") \n",
        "\n",
        "import libtorrent as lt\n",
        "import time\n",
        "import datetime\n",
        "\n",
        "ses = lt.session()\n",
        "ses.listen_on(6881, 6891)\n",
        "params = {\n",
        "    'save_path': './downloads/',\n",
        "    'storage_mode': lt.storage_mode_t(2)}\n",
        "\n",
        "print(link)\n",
        "\n",
        "handle = lt.add_magnet_uri(ses, link, params)\n",
        "ses.start_dht()\n",
        "\n",
        "begin = time.time()\n",
        "print(datetime.datetime.now())\n",
        "\n",
        "print ('Downloading Metadata...')\n",
        "while (not handle.has_metadata()):\n",
        "    time.sleep(1)\n",
        "print ('Got Metadata, Starting Torrent Download...')\n",
        "\n",
        "print(\"Starting\", handle.name())\n",
        "\n",
        "while (handle.status().state != lt.torrent_status.seeding):\n",
        "    s = handle.status()\n",
        "    state_str = ['queued', 'checking', 'downloading metadata', \\\n",
        "            'downloading', 'finished', 'seeding', 'allocating']\n",
        "    print ('%.2f%% complete (down: %.1f kb/s up: %.1f kB/s peers: %d) %s ' % \\\n",
        "            (s.progress * 100, s.download_rate / 1000, s.upload_rate / 1000, \\\n",
        "            s.num_peers, state_str[s.state]))\n",
        "    time.sleep(5)\n",
        "\n",
        "end = time.time()\n",
        "print(handle.name(), \"COMPLETE\")\n",
        "\n",
        "print(\"Elapsed Time: \",int((end-begin)//60),\"min :\", int((end-begin)%60), \"sec\")\n",
        "\n",
        "print(datetime.datetime.now())"
      ],
      "metadata": {
        "id": "73n3U4mcFIKO",
        "cellView": "form"
      },
      "execution_count": null,
      "outputs": []
    },
    {
      "cell_type": "markdown",
      "source": [],
      "metadata": {
        "id": "eVNOOAZaHuMo"
      }
    },
    {
      "cell_type": "code",
      "source": [
        "#@title **<<<<< yet Experiemental, Download files with direct links.**\n",
        "\n",
        "!cd downloads && wget -c #paste link here"
      ],
      "metadata": {
        "id": "mvWInPjnGcYU",
        "cellView": "form"
      },
      "execution_count": null,
      "outputs": []
    },
    {
      "cell_type": "code",
      "source": [
        "#@title 5. **Copy files to OneDrive**\n",
        "!rsync -ah --progress downloads/ onedrive/            #this may take a while "
      ],
      "metadata": {
        "id": "wZz-ne2ZGReU",
        "cellView": "form"
      },
      "execution_count": null,
      "outputs": []
    }
  ]
}